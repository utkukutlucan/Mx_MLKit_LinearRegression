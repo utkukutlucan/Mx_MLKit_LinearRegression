{
 "cells": [
  {
   "cell_type": "markdown",
   "id": "1d5ea429-5c6b-408e-8a4f-c9f557e3b916",
   "metadata": {},
   "source": [
    "## LinearRegression"
   ]
  },
  {
   "cell_type": "markdown",
   "id": "10c98e1d-1d8d-4605-95e8-4b584bdfdc1b",
   "metadata": {},
   "source": []
  },
  {
   "cell_type": "code",
   "execution_count": 1,
   "id": "f4f8d30e-1875-4622-9c23-7ba5be8c1edb",
   "metadata": {
    "scrolled": true
   },
   "outputs": [
    {
     "name": "stdout",
     "output_type": "stream",
     "text": [
      "Requirement already satisfied: skl2onnx==1.15.0 in c:\\users\\z004e89b\\appdata\\local\\programs\\python\\python311\\lib\\site-packages (1.15.0)"
     ]
    },
    {
     "name": "stderr",
     "output_type": "stream",
     "text": [
      "\n",
      "[notice] A new release of pip is available: 23.3.2 -> 24.0\n",
      "[notice] To update, run: python.exe -m pip install --upgrade pip\n"
     ]
    },
    {
     "name": "stdout",
     "output_type": "stream",
     "text": [
      "\n",
      "Requirement already satisfied: onnx>=1.2.1 in c:\\users\\z004e89b\\appdata\\local\\programs\\python\\python311\\lib\\site-packages (from skl2onnx==1.15.0) (1.13.1)\n",
      "Requirement already satisfied: scikit-learn>=0.19 in c:\\users\\z004e89b\\appdata\\local\\programs\\python\\python311\\lib\\site-packages (from skl2onnx==1.15.0) (1.3.0)\n",
      "Requirement already satisfied: onnxconverter-common>=1.7.0 in c:\\users\\z004e89b\\appdata\\local\\programs\\python\\python311\\lib\\site-packages (from skl2onnx==1.15.0) (1.13.0)\n",
      "Requirement already satisfied: numpy>=1.16.6 in c:\\users\\z004e89b\\appdata\\local\\programs\\python\\python311\\lib\\site-packages (from onnx>=1.2.1->skl2onnx==1.15.0) (1.25.2)\n",
      "Requirement already satisfied: protobuf<4,>=3.20.2 in c:\\users\\z004e89b\\appdata\\local\\programs\\python\\python311\\lib\\site-packages (from onnx>=1.2.1->skl2onnx==1.15.0) (3.20.3)\n",
      "Requirement already satisfied: typing-extensions>=3.6.2.1 in c:\\users\\z004e89b\\appdata\\local\\programs\\python\\python311\\lib\\site-packages (from onnx>=1.2.1->skl2onnx==1.15.0) (4.7.1)\n",
      "Requirement already satisfied: packaging in c:\\users\\z004e89b\\appdata\\local\\programs\\python\\python311\\lib\\site-packages (from onnxconverter-common>=1.7.0->skl2onnx==1.15.0) (23.1)\n",
      "Requirement already satisfied: scipy>=1.5.0 in c:\\users\\z004e89b\\appdata\\local\\programs\\python\\python311\\lib\\site-packages (from scikit-learn>=0.19->skl2onnx==1.15.0) (1.11.1)\n",
      "Requirement already satisfied: joblib>=1.1.1 in c:\\users\\z004e89b\\appdata\\local\\programs\\python\\python311\\lib\\site-packages (from scikit-learn>=0.19->skl2onnx==1.15.0) (1.3.2)\n",
      "Requirement already satisfied: threadpoolctl>=2.0.0 in c:\\users\\z004e89b\\appdata\\local\\programs\\python\\python311\\lib\\site-packages (from scikit-learn>=0.19->skl2onnx==1.15.0) (3.2.0)\n",
      "Requirement already satisfied: onnx in c:\\users\\z004e89b\\appdata\\local\\programs\\python\\python311\\lib\\site-packages (1.13.1)"
     ]
    },
    {
     "name": "stderr",
     "output_type": "stream",
     "text": [
      "\n",
      "[notice] A new release of pip is available: 23.3.2 -> 24.0\n",
      "[notice] To update, run: python.exe -m pip install --upgrade pip\n"
     ]
    },
    {
     "name": "stdout",
     "output_type": "stream",
     "text": [
      "\n",
      "Requirement already satisfied: numpy>=1.16.6 in c:\\users\\z004e89b\\appdata\\local\\programs\\python\\python311\\lib\\site-packages (from onnx) (1.25.2)\n",
      "Requirement already satisfied: protobuf<4,>=3.20.2 in c:\\users\\z004e89b\\appdata\\local\\programs\\python\\python311\\lib\\site-packages (from onnx) (3.20.3)\n",
      "Requirement already satisfied: typing-extensions>=3.6.2.1 in c:\\users\\z004e89b\\appdata\\local\\programs\\python\\python311\\lib\\site-packages (from onnx) (4.7.1)\n",
      "Requirement already satisfied: onnxruntime in c:\\users\\z004e89b\\appdata\\local\\programs\\python\\python311\\lib\\site-packages (1.15.1)\n",
      "Requirement already satisfied: coloredlogs in c:\\users\\z004e89b\\appdata\\local\\programs\\python\\python311\\lib\\site-packages (from onnxruntime) (15.0.1)\n",
      "Requirement already satisfied: flatbuffers in c:\\users\\z004e89b\\appdata\\local\\programs\\python\\python311\\lib\\site-packages (from onnxruntime) (23.5.26)\n",
      "Requirement already satisfied: numpy>=1.24.2 in c:\\users\\z004e89b\\appdata\\local\\programs\\python\\python311\\lib\\site-packages (from onnxruntime) (1.25.2)\n",
      "Requirement already satisfied: packaging in c:\\users\\z004e89b\\appdata\\local\\programs\\python\\python311\\lib\\site-packages (from onnxruntime) (23.1)\n",
      "Requirement already satisfied: protobuf in c:\\users\\z004e89b\\appdata\\local\\programs\\python\\python311\\lib\\site-packages (from onnxruntime) (3.20.3)\n",
      "Requirement already satisfied: sympy in c:\\users\\z004e89b\\appdata\\local\\programs\\python\\python311\\lib\\site-packages (from onnxruntime) (1.12)\n",
      "Requirement already satisfied: humanfriendly>=9.1 in c:\\users\\z004e89b\\appdata\\local\\programs\\python\\python311\\lib\\site-packages (from coloredlogs->onnxruntime) (10.0)\n",
      "Requirement already satisfied: mpmath>=0.19 in c:\\users\\z004e89b\\appdata\\local\\programs\\python\\python311\\lib\\site-packages (from sympy->onnxruntime) (1.3.0)\n",
      "Requirement already satisfied: pyreadline3 in c:\\users\\z004e89b\\appdata\\local\\programs\\python\\python311\\lib\\site-packages (from humanfriendly>=9.1->coloredlogs->onnxruntime) (3.4.1)\n"
     ]
    },
    {
     "name": "stderr",
     "output_type": "stream",
     "text": [
      "\n",
      "[notice] A new release of pip is available: 23.3.2 -> 24.0\n",
      "[notice] To update, run: python.exe -m pip install --upgrade pip\n"
     ]
    }
   ],
   "source": [
    "!pip install skl2onnx==1.15.0\n",
    "!pip install onnx\n",
    "!pip install onnxruntime"
   ]
  },
  {
   "cell_type": "code",
   "execution_count": 2,
   "id": "5628def6-1e05-4b68-a7f7-9e360f06b69c",
   "metadata": {},
   "outputs": [],
   "source": [
    "from skl2onnx import to_onnx\n"
   ]
  },
  {
   "cell_type": "code",
   "execution_count": 3,
   "id": "d8747df6-cb44-4b08-9a0c-6b8b2364c34d",
   "metadata": {},
   "outputs": [],
   "source": [
    "import pandas as pd\n",
    "import numpy as np\n",
    "from sklearn.model_selection import train_test_split\n",
    "from sklearn.linear_model import LinearRegression\n",
    "from sklearn.metrics import accuracy_score\n",
    "from sklearn.preprocessing import LabelEncoder\n"
   ]
  },
  {
   "cell_type": "code",
   "execution_count": 4,
   "id": "b84ebe8e-2f1e-4c97-9d7e-bea62a12e9f6",
   "metadata": {},
   "outputs": [],
   "source": [
    "from sklearn.pipeline import make_pipeline\n",
    "from skl2onnx import to_onnx\n",
    "from skl2onnx.common.data_types import StringTensorType\n",
    "from sklearn.feature_extraction.text import CountVectorizer\n",
    "\n",
    "from sklearn.pipeline import make_pipeline\n",
    "from sklearn.preprocessing import StandardScaler\n",
    " \n",
    "\n",
    "\n",
    "from skl2onnx.common.data_types import FloatTensorType\n",
    "from skl2onnx import convert_sklearn\n",
    "from sklearn.metrics import accuracy_score"
   ]
  },
  {
   "cell_type": "code",
   "execution_count": 5,
   "id": "a044f814-e891-4ce5-a4c3-8f7fc8ccf98c",
   "metadata": {},
   "outputs": [
    {
     "name": "stdout",
     "output_type": "stream",
     "text": [
      "       x1     y\n",
      "0    57.0  51.0\n",
      "1    20.0  23.0\n",
      "2    27.0  23.0\n",
      "3    16.0   6.0\n",
      "4    61.0  60.0\n",
      "..    ...   ...\n",
      "295  34.0  31.0\n",
      "296  83.0  34.0\n",
      "297  71.0  40.0\n",
      "298  27.0  29.0\n",
      "299  93.0  92.0\n",
      "\n",
      "[300 rows x 2 columns]\n"
     ]
    }
   ],
   "source": [
    "dataset= pd.read_csv(\"temp1.csv\")\n",
    "dataset.head()\n",
    "print(dataset)\n"
   ]
  },
  {
   "cell_type": "code",
   "execution_count": 6,
   "id": "efdf3a9d-fd0b-489b-8dd3-87a45729b3ab",
   "metadata": {},
   "outputs": [],
   "source": [
    "X_lin = dataset.drop(['y'],axis=1)\n",
    "y_lin = dataset[['y']]\n",
    "\n",
    "X_lin_train, X_lin_test, y_lin_train, y_lin_test = train_test_split(X_lin,y_lin,test_size=0.3,random_state=42)\n",
    "\n"
   ]
  },
  {
   "cell_type": "code",
   "execution_count": 7,
   "id": "2a3ee000-fc28-4b8d-943e-c0811678242a",
   "metadata": {
    "scrolled": true
   },
   "outputs": [
    {
     "data": {
      "text/plain": [
       "array([[57.00387757],\n",
       "       [40.37565417],\n",
       "       [35.48500023],\n",
       "       [ 4.18481501],\n",
       "       [55.047616  ],\n",
       "       [69.71957782],\n",
       "       [16.90051526],\n",
       "       [56.02574679],\n",
       "       [38.4193926 ],\n",
       "       [52.11322363],\n",
       "       [31.57247708],\n",
       "       [96.1291091 ],\n",
       "       [80.47901649],\n",
       "       [ 5.1629458 ],\n",
       "       [63.85079309],\n",
       "       [67.76331624],\n",
       "       [10.05359974],\n",
       "       [76.56649334],\n",
       "       [89.28219359],\n",
       "       [71.6758394 ],\n",
       "       [75.58836255],\n",
       "       [ 0.27229186],\n",
       "       [83.41340886],\n",
       "       [ 6.14107659],\n",
       "       [66.78518546],\n",
       "       [65.80705467],\n",
       "       [23.74743077],\n",
       "       [32.55060787],\n",
       "       [36.46313102],\n",
       "       [80.47901649],\n",
       "       [44.28817733],\n",
       "       [50.15696206],\n",
       "       [18.85677683],\n",
       "       [14.94425368],\n",
       "       [47.22256969],\n",
       "       [ 9.07546895],\n",
       "       [25.70369235],\n",
       "       [33.52873866],\n",
       "       [12.9879921 ],\n",
       "       [62.8726623 ],\n",
       "       [12.9879921 ],\n",
       "       [68.74144703],\n",
       "       [35.48500023],\n",
       "       [93.19471674],\n",
       "       [49.17883127],\n",
       "       [21.7911692 ],\n",
       "       [58.96013915],\n",
       "       [14.94425368],\n",
       "       [ 7.11920737],\n",
       "       [31.57247708],\n",
       "       [59.93826994],\n",
       "       [76.56649334],\n",
       "       [25.70369235],\n",
       "       [22.76929999],\n",
       "       [68.74144703],\n",
       "       [19.83490762],\n",
       "       [ 3.20668422],\n",
       "       [ 0.27229186],\n",
       "       [73.63210097],\n",
       "       [ 0.27229186],\n",
       "       [45.26630812],\n",
       "       [95.15097831],\n",
       "       [16.90051526],\n",
       "       [48.20070048],\n",
       "       [51.13509284],\n",
       "       [ 2.22855343],\n",
       "       [39.39752339],\n",
       "       [92.21658595],\n",
       "       [67.76331624],\n",
       "       [80.47901649],\n",
       "       [ 7.11920737],\n",
       "       [ 8.09733816],\n",
       "       [71.6758394 ],\n",
       "       [92.21658595],\n",
       "       [26.68182314],\n",
       "       [72.65397019],\n",
       "       [96.1291091 ],\n",
       "       [61.89453151],\n",
       "       [ 4.18481501],\n",
       "       [66.78518546],\n",
       "       [ 3.20668422],\n",
       "       [62.8726623 ],\n",
       "       [ 7.11920737],\n",
       "       [30.59434629],\n",
       "       [70.69770861],\n",
       "       [93.19471674],\n",
       "       [15.92238447],\n",
       "       [59.93826994],\n",
       "       [ 4.18481501],\n",
       "       [95.15097831]])"
      ]
     },
     "execution_count": 7,
     "metadata": {},
     "output_type": "execute_result"
    }
   ],
   "source": [
    "Linear_model = LinearRegression()\n",
    "Linear_model.fit(X_lin_train,y_lin_train)\n",
    "\n",
    "pred = Linear_model.predict(X_lin_test)\n",
    "\n",
    "pred\n"
   ]
  },
  {
   "cell_type": "code",
   "execution_count": 8,
   "id": "faa50569-944e-41ea-930d-507889fb474a",
   "metadata": {},
   "outputs": [
    {
     "data": {
      "text/plain": [
       "1.0"
      ]
     },
     "execution_count": 8,
     "metadata": {},
     "output_type": "execute_result"
    }
   ],
   "source": [
    "Linear_model.score(X_lin_test,pred)\n"
   ]
  },
  {
   "cell_type": "code",
   "execution_count": 9,
   "id": "14074bbb-24ed-490a-a7fc-ee0a3ea4c552",
   "metadata": {},
   "outputs": [
    {
     "data": {
      "text/plain": [
       "array([[11],\n",
       "       [95],\n",
       "       [ 2],\n",
       "       [ 3]])"
      ]
     },
     "execution_count": 9,
     "metadata": {},
     "output_type": "execute_result"
    }
   ],
   "source": [
    "x_newDataSet = np.array([[11],[95],[2],[3]])\n",
    "\n",
    "# x_newDataSet = {'x1': [1, 2, 3, 4], 'x2': [4, 5, 6, 7]}\n",
    "\n",
    "x_newDataSet"
   ]
  },
  {
   "cell_type": "code",
   "execution_count": 10,
   "id": "8274c6e3-b685-4745-96d9-c459916a7e80",
   "metadata": {},
   "outputs": [
    {
     "name": "stderr",
     "output_type": "stream",
     "text": [
      "C:\\Users\\Z004E89B\\AppData\\Local\\Programs\\Python\\Python311\\Lib\\site-packages\\sklearn\\base.py:464: UserWarning: X does not have valid feature names, but LinearRegression was fitted with feature names\n",
      "  warnings.warn(\n"
     ]
    },
    {
     "data": {
      "text/plain": [
       "array([[10.05359974],\n",
       "       [92.21658595],\n",
       "       [ 1.25042264],\n",
       "       [ 2.22855343]])"
      ]
     },
     "execution_count": 10,
     "metadata": {},
     "output_type": "execute_result"
    }
   ],
   "source": [
    "NewPred = Linear_model.predict(x_newDataSet)\n",
    "NewPred"
   ]
  },
  {
   "cell_type": "code",
   "execution_count": 11,
   "id": "1864b753-9f5f-4b92-b323-264041b84381",
   "metadata": {},
   "outputs": [],
   "source": [
    "from sklearn.metrics import mean_absolute_error  \n",
    "from sklearn.metrics import mean_squared_error  \n",
    "from sklearn.metrics import r2_score  \n"
   ]
  },
  {
   "cell_type": "code",
   "execution_count": 12,
   "id": "9bf2a450-b03b-4a21-bdf4-018756310970",
   "metadata": {},
   "outputs": [],
   "source": [
    "def evaluate(y, predictions):\n",
    "    mae = mean_absolute_error(y, predictions)\n",
    "    mse = mean_squared_error(y, predictions)\n",
    "    r_squared = r2_score(y, predictions)\n",
    "    return mae, mse, r_squared\n"
   ]
  },
  {
   "cell_type": "code",
   "execution_count": 13,
   "id": "df8410e1-2277-4956-b442-e50a83fc8e2b",
   "metadata": {},
   "outputs": [
    {
     "name": "stdout",
     "output_type": "stream",
     "text": [
      "MAE: 10.355573128100723\n",
      "MSE: 249.2859144592342\n",
      "r2 Score: 0.768017782353889\n"
     ]
    }
   ],
   "source": [
    "mae, mse, r2 = evaluate(y_lin_test, pred)\n",
    "print(\"MAE:\", mae)\n",
    "print(\"MSE:\", mse)\n",
    "print(\"r2 Score:\", r2)\n"
   ]
  },
  {
   "cell_type": "code",
   "execution_count": null,
   "id": "7b478124-0839-4560-94c6-b7cad056d741",
   "metadata": {},
   "outputs": [],
   "source": []
  },
  {
   "cell_type": "markdown",
   "id": "1a7b0e16-b78b-4483-b1f0-59d2b36a3827",
   "metadata": {},
   "source": [
    "### onnx\n"
   ]
  },
  {
   "cell_type": "code",
   "execution_count": 14,
   "id": "d66974e0-e348-4ee5-a226-9d48a77e1cf5",
   "metadata": {},
   "outputs": [
    {
     "data": {
      "text/html": [
       "<style>#sk-container-id-1 {color: black;}#sk-container-id-1 pre{padding: 0;}#sk-container-id-1 div.sk-toggleable {background-color: white;}#sk-container-id-1 label.sk-toggleable__label {cursor: pointer;display: block;width: 100%;margin-bottom: 0;padding: 0.3em;box-sizing: border-box;text-align: center;}#sk-container-id-1 label.sk-toggleable__label-arrow:before {content: \"▸\";float: left;margin-right: 0.25em;color: #696969;}#sk-container-id-1 label.sk-toggleable__label-arrow:hover:before {color: black;}#sk-container-id-1 div.sk-estimator:hover label.sk-toggleable__label-arrow:before {color: black;}#sk-container-id-1 div.sk-toggleable__content {max-height: 0;max-width: 0;overflow: hidden;text-align: left;background-color: #f0f8ff;}#sk-container-id-1 div.sk-toggleable__content pre {margin: 0.2em;color: black;border-radius: 0.25em;background-color: #f0f8ff;}#sk-container-id-1 input.sk-toggleable__control:checked~div.sk-toggleable__content {max-height: 200px;max-width: 100%;overflow: auto;}#sk-container-id-1 input.sk-toggleable__control:checked~label.sk-toggleable__label-arrow:before {content: \"▾\";}#sk-container-id-1 div.sk-estimator input.sk-toggleable__control:checked~label.sk-toggleable__label {background-color: #d4ebff;}#sk-container-id-1 div.sk-label input.sk-toggleable__control:checked~label.sk-toggleable__label {background-color: #d4ebff;}#sk-container-id-1 input.sk-hidden--visually {border: 0;clip: rect(1px 1px 1px 1px);clip: rect(1px, 1px, 1px, 1px);height: 1px;margin: -1px;overflow: hidden;padding: 0;position: absolute;width: 1px;}#sk-container-id-1 div.sk-estimator {font-family: monospace;background-color: #f0f8ff;border: 1px dotted black;border-radius: 0.25em;box-sizing: border-box;margin-bottom: 0.5em;}#sk-container-id-1 div.sk-estimator:hover {background-color: #d4ebff;}#sk-container-id-1 div.sk-parallel-item::after {content: \"\";width: 100%;border-bottom: 1px solid gray;flex-grow: 1;}#sk-container-id-1 div.sk-label:hover label.sk-toggleable__label {background-color: #d4ebff;}#sk-container-id-1 div.sk-serial::before {content: \"\";position: absolute;border-left: 1px solid gray;box-sizing: border-box;top: 0;bottom: 0;left: 50%;z-index: 0;}#sk-container-id-1 div.sk-serial {display: flex;flex-direction: column;align-items: center;background-color: white;padding-right: 0.2em;padding-left: 0.2em;position: relative;}#sk-container-id-1 div.sk-item {position: relative;z-index: 1;}#sk-container-id-1 div.sk-parallel {display: flex;align-items: stretch;justify-content: center;background-color: white;position: relative;}#sk-container-id-1 div.sk-item::before, #sk-container-id-1 div.sk-parallel-item::before {content: \"\";position: absolute;border-left: 1px solid gray;box-sizing: border-box;top: 0;bottom: 0;left: 50%;z-index: -1;}#sk-container-id-1 div.sk-parallel-item {display: flex;flex-direction: column;z-index: 1;position: relative;background-color: white;}#sk-container-id-1 div.sk-parallel-item:first-child::after {align-self: flex-end;width: 50%;}#sk-container-id-1 div.sk-parallel-item:last-child::after {align-self: flex-start;width: 50%;}#sk-container-id-1 div.sk-parallel-item:only-child::after {width: 0;}#sk-container-id-1 div.sk-dashed-wrapped {border: 1px dashed gray;margin: 0 0.4em 0.5em 0.4em;box-sizing: border-box;padding-bottom: 0.4em;background-color: white;}#sk-container-id-1 div.sk-label label {font-family: monospace;font-weight: bold;display: inline-block;line-height: 1.2em;}#sk-container-id-1 div.sk-label-container {text-align: center;}#sk-container-id-1 div.sk-container {/* jupyter's `normalize.less` sets `[hidden] { display: none; }` but bootstrap.min.css set `[hidden] { display: none !important; }` so we also need the `!important` here to be able to override the default hidden behavior on the sphinx rendered scikit-learn.org. See: https://github.com/scikit-learn/scikit-learn/issues/21755 */display: inline-block !important;position: relative;}#sk-container-id-1 div.sk-text-repr-fallback {display: none;}</style><div id=\"sk-container-id-1\" class=\"sk-top-container\"><div class=\"sk-text-repr-fallback\"><pre>Pipeline(steps=[(&#x27;standardscaler&#x27;, StandardScaler()),\n",
       "                (&#x27;linearregression&#x27;, LinearRegression())])</pre><b>In a Jupyter environment, please rerun this cell to show the HTML representation or trust the notebook. <br />On GitHub, the HTML representation is unable to render, please try loading this page with nbviewer.org.</b></div><div class=\"sk-container\" hidden><div class=\"sk-item sk-dashed-wrapped\"><div class=\"sk-label-container\"><div class=\"sk-label sk-toggleable\"><input class=\"sk-toggleable__control sk-hidden--visually\" id=\"sk-estimator-id-1\" type=\"checkbox\" ><label for=\"sk-estimator-id-1\" class=\"sk-toggleable__label sk-toggleable__label-arrow\">Pipeline</label><div class=\"sk-toggleable__content\"><pre>Pipeline(steps=[(&#x27;standardscaler&#x27;, StandardScaler()),\n",
       "                (&#x27;linearregression&#x27;, LinearRegression())])</pre></div></div></div><div class=\"sk-serial\"><div class=\"sk-item\"><div class=\"sk-estimator sk-toggleable\"><input class=\"sk-toggleable__control sk-hidden--visually\" id=\"sk-estimator-id-2\" type=\"checkbox\" ><label for=\"sk-estimator-id-2\" class=\"sk-toggleable__label sk-toggleable__label-arrow\">StandardScaler</label><div class=\"sk-toggleable__content\"><pre>StandardScaler()</pre></div></div></div><div class=\"sk-item\"><div class=\"sk-estimator sk-toggleable\"><input class=\"sk-toggleable__control sk-hidden--visually\" id=\"sk-estimator-id-3\" type=\"checkbox\" ><label for=\"sk-estimator-id-3\" class=\"sk-toggleable__label sk-toggleable__label-arrow\">LinearRegression</label><div class=\"sk-toggleable__content\"><pre>LinearRegression()</pre></div></div></div></div></div></div></div>"
      ],
      "text/plain": [
       "Pipeline(steps=[('standardscaler', StandardScaler()),\n",
       "                ('linearregression', LinearRegression())])"
      ]
     },
     "execution_count": 14,
     "metadata": {},
     "output_type": "execute_result"
    }
   ],
   "source": [
    "pipe = make_pipeline(\n",
    "    StandardScaler(),\n",
    "    LinearRegression()\n",
    ")\n",
    "pipe"
   ]
  },
  {
   "cell_type": "code",
   "execution_count": 15,
   "id": "5ac6e249-e35d-45b9-8dff-cb79b4ead012",
   "metadata": {},
   "outputs": [
    {
     "data": {
      "text/html": [
       "<style>#sk-container-id-2 {color: black;}#sk-container-id-2 pre{padding: 0;}#sk-container-id-2 div.sk-toggleable {background-color: white;}#sk-container-id-2 label.sk-toggleable__label {cursor: pointer;display: block;width: 100%;margin-bottom: 0;padding: 0.3em;box-sizing: border-box;text-align: center;}#sk-container-id-2 label.sk-toggleable__label-arrow:before {content: \"▸\";float: left;margin-right: 0.25em;color: #696969;}#sk-container-id-2 label.sk-toggleable__label-arrow:hover:before {color: black;}#sk-container-id-2 div.sk-estimator:hover label.sk-toggleable__label-arrow:before {color: black;}#sk-container-id-2 div.sk-toggleable__content {max-height: 0;max-width: 0;overflow: hidden;text-align: left;background-color: #f0f8ff;}#sk-container-id-2 div.sk-toggleable__content pre {margin: 0.2em;color: black;border-radius: 0.25em;background-color: #f0f8ff;}#sk-container-id-2 input.sk-toggleable__control:checked~div.sk-toggleable__content {max-height: 200px;max-width: 100%;overflow: auto;}#sk-container-id-2 input.sk-toggleable__control:checked~label.sk-toggleable__label-arrow:before {content: \"▾\";}#sk-container-id-2 div.sk-estimator input.sk-toggleable__control:checked~label.sk-toggleable__label {background-color: #d4ebff;}#sk-container-id-2 div.sk-label input.sk-toggleable__control:checked~label.sk-toggleable__label {background-color: #d4ebff;}#sk-container-id-2 input.sk-hidden--visually {border: 0;clip: rect(1px 1px 1px 1px);clip: rect(1px, 1px, 1px, 1px);height: 1px;margin: -1px;overflow: hidden;padding: 0;position: absolute;width: 1px;}#sk-container-id-2 div.sk-estimator {font-family: monospace;background-color: #f0f8ff;border: 1px dotted black;border-radius: 0.25em;box-sizing: border-box;margin-bottom: 0.5em;}#sk-container-id-2 div.sk-estimator:hover {background-color: #d4ebff;}#sk-container-id-2 div.sk-parallel-item::after {content: \"\";width: 100%;border-bottom: 1px solid gray;flex-grow: 1;}#sk-container-id-2 div.sk-label:hover label.sk-toggleable__label {background-color: #d4ebff;}#sk-container-id-2 div.sk-serial::before {content: \"\";position: absolute;border-left: 1px solid gray;box-sizing: border-box;top: 0;bottom: 0;left: 50%;z-index: 0;}#sk-container-id-2 div.sk-serial {display: flex;flex-direction: column;align-items: center;background-color: white;padding-right: 0.2em;padding-left: 0.2em;position: relative;}#sk-container-id-2 div.sk-item {position: relative;z-index: 1;}#sk-container-id-2 div.sk-parallel {display: flex;align-items: stretch;justify-content: center;background-color: white;position: relative;}#sk-container-id-2 div.sk-item::before, #sk-container-id-2 div.sk-parallel-item::before {content: \"\";position: absolute;border-left: 1px solid gray;box-sizing: border-box;top: 0;bottom: 0;left: 50%;z-index: -1;}#sk-container-id-2 div.sk-parallel-item {display: flex;flex-direction: column;z-index: 1;position: relative;background-color: white;}#sk-container-id-2 div.sk-parallel-item:first-child::after {align-self: flex-end;width: 50%;}#sk-container-id-2 div.sk-parallel-item:last-child::after {align-self: flex-start;width: 50%;}#sk-container-id-2 div.sk-parallel-item:only-child::after {width: 0;}#sk-container-id-2 div.sk-dashed-wrapped {border: 1px dashed gray;margin: 0 0.4em 0.5em 0.4em;box-sizing: border-box;padding-bottom: 0.4em;background-color: white;}#sk-container-id-2 div.sk-label label {font-family: monospace;font-weight: bold;display: inline-block;line-height: 1.2em;}#sk-container-id-2 div.sk-label-container {text-align: center;}#sk-container-id-2 div.sk-container {/* jupyter's `normalize.less` sets `[hidden] { display: none; }` but bootstrap.min.css set `[hidden] { display: none !important; }` so we also need the `!important` here to be able to override the default hidden behavior on the sphinx rendered scikit-learn.org. See: https://github.com/scikit-learn/scikit-learn/issues/21755 */display: inline-block !important;position: relative;}#sk-container-id-2 div.sk-text-repr-fallback {display: none;}</style><div id=\"sk-container-id-2\" class=\"sk-top-container\"><div class=\"sk-text-repr-fallback\"><pre>Pipeline(steps=[(&#x27;standardscaler&#x27;, StandardScaler()),\n",
       "                (&#x27;linearregression&#x27;, LinearRegression())])</pre><b>In a Jupyter environment, please rerun this cell to show the HTML representation or trust the notebook. <br />On GitHub, the HTML representation is unable to render, please try loading this page with nbviewer.org.</b></div><div class=\"sk-container\" hidden><div class=\"sk-item sk-dashed-wrapped\"><div class=\"sk-label-container\"><div class=\"sk-label sk-toggleable\"><input class=\"sk-toggleable__control sk-hidden--visually\" id=\"sk-estimator-id-4\" type=\"checkbox\" ><label for=\"sk-estimator-id-4\" class=\"sk-toggleable__label sk-toggleable__label-arrow\">Pipeline</label><div class=\"sk-toggleable__content\"><pre>Pipeline(steps=[(&#x27;standardscaler&#x27;, StandardScaler()),\n",
       "                (&#x27;linearregression&#x27;, LinearRegression())])</pre></div></div></div><div class=\"sk-serial\"><div class=\"sk-item\"><div class=\"sk-estimator sk-toggleable\"><input class=\"sk-toggleable__control sk-hidden--visually\" id=\"sk-estimator-id-5\" type=\"checkbox\" ><label for=\"sk-estimator-id-5\" class=\"sk-toggleable__label sk-toggleable__label-arrow\">StandardScaler</label><div class=\"sk-toggleable__content\"><pre>StandardScaler()</pre></div></div></div><div class=\"sk-item\"><div class=\"sk-estimator sk-toggleable\"><input class=\"sk-toggleable__control sk-hidden--visually\" id=\"sk-estimator-id-6\" type=\"checkbox\" ><label for=\"sk-estimator-id-6\" class=\"sk-toggleable__label sk-toggleable__label-arrow\">LinearRegression</label><div class=\"sk-toggleable__content\"><pre>LinearRegression()</pre></div></div></div></div></div></div></div>"
      ],
      "text/plain": [
       "Pipeline(steps=[('standardscaler', StandardScaler()),\n",
       "                ('linearregression', LinearRegression())])"
      ]
     },
     "execution_count": 15,
     "metadata": {},
     "output_type": "execute_result"
    }
   ],
   "source": [
    "pipe.fit(X_lin_train, y_lin_train)"
   ]
  },
  {
   "cell_type": "code",
   "execution_count": 16,
   "id": "183b0733-5ed5-46d4-b06b-e02b7ed9f615",
   "metadata": {},
   "outputs": [
    {
     "data": {
      "text/html": [
       "<style>#sk-container-id-3 {color: black;}#sk-container-id-3 pre{padding: 0;}#sk-container-id-3 div.sk-toggleable {background-color: white;}#sk-container-id-3 label.sk-toggleable__label {cursor: pointer;display: block;width: 100%;margin-bottom: 0;padding: 0.3em;box-sizing: border-box;text-align: center;}#sk-container-id-3 label.sk-toggleable__label-arrow:before {content: \"▸\";float: left;margin-right: 0.25em;color: #696969;}#sk-container-id-3 label.sk-toggleable__label-arrow:hover:before {color: black;}#sk-container-id-3 div.sk-estimator:hover label.sk-toggleable__label-arrow:before {color: black;}#sk-container-id-3 div.sk-toggleable__content {max-height: 0;max-width: 0;overflow: hidden;text-align: left;background-color: #f0f8ff;}#sk-container-id-3 div.sk-toggleable__content pre {margin: 0.2em;color: black;border-radius: 0.25em;background-color: #f0f8ff;}#sk-container-id-3 input.sk-toggleable__control:checked~div.sk-toggleable__content {max-height: 200px;max-width: 100%;overflow: auto;}#sk-container-id-3 input.sk-toggleable__control:checked~label.sk-toggleable__label-arrow:before {content: \"▾\";}#sk-container-id-3 div.sk-estimator input.sk-toggleable__control:checked~label.sk-toggleable__label {background-color: #d4ebff;}#sk-container-id-3 div.sk-label input.sk-toggleable__control:checked~label.sk-toggleable__label {background-color: #d4ebff;}#sk-container-id-3 input.sk-hidden--visually {border: 0;clip: rect(1px 1px 1px 1px);clip: rect(1px, 1px, 1px, 1px);height: 1px;margin: -1px;overflow: hidden;padding: 0;position: absolute;width: 1px;}#sk-container-id-3 div.sk-estimator {font-family: monospace;background-color: #f0f8ff;border: 1px dotted black;border-radius: 0.25em;box-sizing: border-box;margin-bottom: 0.5em;}#sk-container-id-3 div.sk-estimator:hover {background-color: #d4ebff;}#sk-container-id-3 div.sk-parallel-item::after {content: \"\";width: 100%;border-bottom: 1px solid gray;flex-grow: 1;}#sk-container-id-3 div.sk-label:hover label.sk-toggleable__label {background-color: #d4ebff;}#sk-container-id-3 div.sk-serial::before {content: \"\";position: absolute;border-left: 1px solid gray;box-sizing: border-box;top: 0;bottom: 0;left: 50%;z-index: 0;}#sk-container-id-3 div.sk-serial {display: flex;flex-direction: column;align-items: center;background-color: white;padding-right: 0.2em;padding-left: 0.2em;position: relative;}#sk-container-id-3 div.sk-item {position: relative;z-index: 1;}#sk-container-id-3 div.sk-parallel {display: flex;align-items: stretch;justify-content: center;background-color: white;position: relative;}#sk-container-id-3 div.sk-item::before, #sk-container-id-3 div.sk-parallel-item::before {content: \"\";position: absolute;border-left: 1px solid gray;box-sizing: border-box;top: 0;bottom: 0;left: 50%;z-index: -1;}#sk-container-id-3 div.sk-parallel-item {display: flex;flex-direction: column;z-index: 1;position: relative;background-color: white;}#sk-container-id-3 div.sk-parallel-item:first-child::after {align-self: flex-end;width: 50%;}#sk-container-id-3 div.sk-parallel-item:last-child::after {align-self: flex-start;width: 50%;}#sk-container-id-3 div.sk-parallel-item:only-child::after {width: 0;}#sk-container-id-3 div.sk-dashed-wrapped {border: 1px dashed gray;margin: 0 0.4em 0.5em 0.4em;box-sizing: border-box;padding-bottom: 0.4em;background-color: white;}#sk-container-id-3 div.sk-label label {font-family: monospace;font-weight: bold;display: inline-block;line-height: 1.2em;}#sk-container-id-3 div.sk-label-container {text-align: center;}#sk-container-id-3 div.sk-container {/* jupyter's `normalize.less` sets `[hidden] { display: none; }` but bootstrap.min.css set `[hidden] { display: none !important; }` so we also need the `!important` here to be able to override the default hidden behavior on the sphinx rendered scikit-learn.org. See: https://github.com/scikit-learn/scikit-learn/issues/21755 */display: inline-block !important;position: relative;}#sk-container-id-3 div.sk-text-repr-fallback {display: none;}</style><div id=\"sk-container-id-3\" class=\"sk-top-container\"><div class=\"sk-text-repr-fallback\"><pre>LinearRegression()</pre><b>In a Jupyter environment, please rerun this cell to show the HTML representation or trust the notebook. <br />On GitHub, the HTML representation is unable to render, please try loading this page with nbviewer.org.</b></div><div class=\"sk-container\" hidden><div class=\"sk-item\"><div class=\"sk-estimator sk-toggleable\"><input class=\"sk-toggleable__control sk-hidden--visually\" id=\"sk-estimator-id-7\" type=\"checkbox\" checked><label for=\"sk-estimator-id-7\" class=\"sk-toggleable__label sk-toggleable__label-arrow\">LinearRegression</label><div class=\"sk-toggleable__content\"><pre>LinearRegression()</pre></div></div></div></div></div>"
      ],
      "text/plain": [
       "LinearRegression()"
      ]
     },
     "execution_count": 16,
     "metadata": {},
     "output_type": "execute_result"
    }
   ],
   "source": [
    "Linear_model"
   ]
  },
  {
   "cell_type": "code",
   "execution_count": 17,
   "id": "56559955-f306-43d6-8782-09a64f1ff67e",
   "metadata": {},
   "outputs": [
    {
     "data": {
      "text/plain": [
       "[('x1', FloatTensorType(shape=[None, 1]))]"
      ]
     },
     "execution_count": 17,
     "metadata": {},
     "output_type": "execute_result"
    }
   ],
   "source": [
    "initial_types=[('x1', FloatTensorType([None, 1]))]\n",
    "# onx = convert_sklearn(Linear_model, initial_types=initial_type)\n",
    "\n",
    "initial_types"
   ]
  },
  {
   "cell_type": "code",
   "execution_count": 18,
   "id": "1e4586ff-89a6-48cc-8856-e4df43583271",
   "metadata": {},
   "outputs": [
    {
     "data": {
      "text/plain": [
       "ir_version: 8\n",
       "producer_name: \"skl2onnx\"\n",
       "producer_version: \"1.15.0\"\n",
       "domain: \"ai.onnx\"\n",
       "model_version: 0\n",
       "doc_string: \"\"\n",
       "graph {\n",
       "  node {\n",
       "    input: \"x1\"\n",
       "    output: \"variable1\"\n",
       "    name: \"Scaler\"\n",
       "    op_type: \"Scaler\"\n",
       "    attribute {\n",
       "      name: \"offset\"\n",
       "      floats: 49.814285\n",
       "      type: FLOATS\n",
       "    }\n",
       "    attribute {\n",
       "      name: \"scale\"\n",
       "      floats: 0.034879234\n",
       "      type: FLOATS\n",
       "    }\n",
       "    domain: \"ai.onnx.ml\"\n",
       "  }\n",
       "  node {\n",
       "    input: \"variable1\"\n",
       "    output: \"variable\"\n",
       "    name: \"LinearRegressor\"\n",
       "    op_type: \"LinearRegressor\"\n",
       "    attribute {\n",
       "      name: \"coefficients\"\n",
       "      floats: 28.043358\n",
       "      type: FLOATS\n",
       "    }\n",
       "    attribute {\n",
       "      name: \"intercepts\"\n",
       "      floats: 48.019047\n",
       "      type: FLOATS\n",
       "    }\n",
       "    attribute {\n",
       "      name: \"targets\"\n",
       "      i: 1\n",
       "      type: INT\n",
       "    }\n",
       "    domain: \"ai.onnx.ml\"\n",
       "  }\n",
       "  name: \"ONNX(Pipeline)\"\n",
       "  input {\n",
       "    name: \"x1\"\n",
       "    type {\n",
       "      tensor_type {\n",
       "        elem_type: 1\n",
       "        shape {\n",
       "          dim {\n",
       "          }\n",
       "          dim {\n",
       "            dim_value: 1\n",
       "          }\n",
       "        }\n",
       "      }\n",
       "    }\n",
       "  }\n",
       "  output {\n",
       "    name: \"variable\"\n",
       "    type {\n",
       "      tensor_type {\n",
       "        elem_type: 1\n",
       "        shape {\n",
       "          dim {\n",
       "          }\n",
       "          dim {\n",
       "            dim_value: 1\n",
       "          }\n",
       "        }\n",
       "      }\n",
       "    }\n",
       "  }\n",
       "}\n",
       "opset_import {\n",
       "  domain: \"ai.onnx.ml\"\n",
       "  version: 1\n",
       "}\n",
       "opset_import {\n",
       "  domain: \"\"\n",
       "  version: 18\n",
       "}"
      ]
     },
     "execution_count": 18,
     "metadata": {},
     "output_type": "execute_result"
    }
   ],
   "source": [
    "onxx_pipeline = to_onnx(pipe, initial_types)\n",
    "onxx_pipeline"
   ]
  },
  {
   "cell_type": "code",
   "execution_count": 19,
   "id": "4f8cb51c-2d4e-4bd0-b04a-94497ceb8a26",
   "metadata": {},
   "outputs": [],
   "source": [
    "with open(\"linearregression.onnx\", \"wb\") as f:\n",
    "    f.write(onxx_pipeline.SerializeToString())"
   ]
  },
  {
   "cell_type": "code",
   "execution_count": null,
   "id": "4fa3b1b3-c3de-46be-869f-4507716d5b33",
   "metadata": {},
   "outputs": [],
   "source": []
  },
  {
   "cell_type": "code",
   "execution_count": null,
   "id": "12440fd1-39e2-4363-ae07-89778cab3af1",
   "metadata": {},
   "outputs": [],
   "source": []
  },
  {
   "cell_type": "code",
   "execution_count": null,
   "id": "b9c3be3e-75a4-443a-bce4-8bc8a4dd9a9c",
   "metadata": {},
   "outputs": [],
   "source": []
  }
 ],
 "metadata": {
  "kernelspec": {
   "display_name": "Python 3 (ipykernel)",
   "language": "python",
   "name": "python3"
  },
  "language_info": {
   "codemirror_mode": {
    "name": "ipython",
    "version": 3
   },
   "file_extension": ".py",
   "mimetype": "text/x-python",
   "name": "python",
   "nbconvert_exporter": "python",
   "pygments_lexer": "ipython3",
   "version": "3.11.4"
  }
 },
 "nbformat": 4,
 "nbformat_minor": 5
}
